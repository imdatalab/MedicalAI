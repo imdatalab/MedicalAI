{
  "nbformat": 4,
  "nbformat_minor": 0,
  "metadata": {
    "colab": {
      "provenance": []
    },
    "kernelspec": {
      "name": "python3",
      "display_name": "Python 3"
    },
    "language_info": {
      "name": "python"
    }
  },
  "cells": [
    {
      "cell_type": "code",
      "execution_count": null,
      "metadata": {
        "id": "a_dQCzW9nRaY"
      },
      "outputs": [],
      "source": [
        "import numpy as np\n",
        "import pandas as pd\n",
        "import matplotlib.pyplot as plt\n",
        "import seaborn as sns\n",
        "import warnings\n",
        "warnings.filterwarnings(\"ignore\")\n",
        "%matplotlib inline"
      ]
    },
    {
      "cell_type": "code",
      "source": [
        "data = pd.read_csv('/content/diabetes.csv')"
      ],
      "metadata": {
        "id": "Gv_tYB2-nsCs"
      },
      "execution_count": null,
      "outputs": []
    },
    {
      "cell_type": "code",
      "source": [
        "data.head(5)"
      ],
      "metadata": {
        "id": "fGI33_Eqnxro",
        "collapsed": true
      },
      "execution_count": null,
      "outputs": []
    },
    {
      "cell_type": "markdown",
      "source": [
        "# 데이터 기초 정보 확인"
      ],
      "metadata": {
        "id": "r5Ps9nnmo3t3"
      }
    },
    {
      "cell_type": "code",
      "source": [
        "data.shape"
      ],
      "metadata": {
        "id": "io4M9dO1n8wE"
      },
      "execution_count": null,
      "outputs": []
    },
    {
      "cell_type": "code",
      "source": [
        "data.describe()"
      ],
      "metadata": {
        "id": "JuN-uNBUn0yi"
      },
      "execution_count": null,
      "outputs": []
    },
    {
      "cell_type": "code",
      "source": [
        "data.info()"
      ],
      "metadata": {
        "id": "plJVnfmDn3JS"
      },
      "execution_count": null,
      "outputs": []
    },
    {
      "cell_type": "code",
      "source": [
        "data.isnull().sum()"
      ],
      "metadata": {
        "id": "6TyoAOLqoIj_"
      },
      "execution_count": null,
      "outputs": []
    },
    {
      "cell_type": "code",
      "source": [
        "data.columns"
      ],
      "metadata": {
        "id": "bX1JCRr5oF0f"
      },
      "execution_count": null,
      "outputs": []
    },
    {
      "cell_type": "code",
      "source": [
        "data.corr()"
      ],
      "metadata": {
        "id": "ti3_ACA4oPHH"
      },
      "execution_count": null,
      "outputs": []
    },
    {
      "cell_type": "markdown",
      "source": [
        "# 데이터 시각화하기"
      ],
      "metadata": {
        "id": "gbNpXM7jo9uE"
      }
    },
    {
      "cell_type": "code",
      "source": [
        "plt.figure(figsize = (4,3))\n",
        "data.Outcome.value_counts().plot.pie(labels = (\"No\", \"Yes\"), autopct = \"%.2f%%\")"
      ],
      "metadata": {
        "id": "mofDRDz38Wii"
      },
      "execution_count": null,
      "outputs": []
    },
    {
      "cell_type": "code",
      "source": [
        "plt.figure(figsize = (7,5))\n",
        "\n",
        "sns.heatmap(data.corr(), annot =True)"
      ],
      "metadata": {
        "id": "SM3JZO3AoS1v"
      },
      "execution_count": null,
      "outputs": []
    },
    {
      "cell_type": "code",
      "source": [
        "data.hist(figsize=(18,12))\n",
        "plt.show()"
      ],
      "metadata": {
        "id": "Vq-dacDUoZa2"
      },
      "execution_count": null,
      "outputs": []
    },
    {
      "cell_type": "code",
      "source": [
        "plt.figure(figsize=(14,8))\n",
        "sns.set_style(style='whitegrid')\n",
        "plt.subplot(2,3,1)\n",
        "sns.boxplot(x='Glucose',data=data)\n",
        "plt.subplot(2,3,2)\n",
        "sns.boxplot(x='BloodPressure',data=data)\n",
        "plt.subplot(2,3,3)\n",
        "sns.boxplot(x='Insulin',data=data)\n",
        "plt.subplot(2,3,4)\n",
        "sns.boxplot(x='BMI',data=data)\n",
        "plt.subplot(2,3,5)\n",
        "sns.boxplot(x='Age',data=data)\n",
        "plt.subplot(2,3,6)\n",
        "sns.boxplot(x='SkinThickness',data=data)"
      ],
      "metadata": {
        "id": "4p1Fp4xrozJ5"
      },
      "execution_count": null,
      "outputs": []
    },
    {
      "cell_type": "code",
      "source": [
        "sns.scatterplot(x='Glucose', y='Insulin', hue='Outcome', data=data)"
      ],
      "metadata": {
        "id": "Um3YoYxT-7FO"
      },
      "execution_count": null,
      "outputs": []
    },
    {
      "cell_type": "markdown",
      "source": [
        "# Dataset 만들기\n"
      ],
      "metadata": {
        "id": "nY4hMkMXpoOz"
      }
    },
    {
      "cell_type": "code",
      "source": [
        "x = data.drop(columns = 'Outcome')\n",
        "y = data['Outcome']"
      ],
      "metadata": {
        "id": "DkQ-TP3ppuOw"
      },
      "execution_count": null,
      "outputs": []
    },
    {
      "cell_type": "code",
      "source": [
        "from sklearn.model_selection import train_test_split\n",
        "\n",
        "x_train,x_test,y_train,y_test = train_test_split(x, y, test_size=0.2, random_state=0)"
      ],
      "metadata": {
        "id": "WEYisEiBp0n5"
      },
      "execution_count": null,
      "outputs": []
    },
    {
      "cell_type": "code",
      "source": [
        "print(len(x_train), len(x_test), len(y_train), len(y_test))"
      ],
      "metadata": {
        "id": "Fu_xA5jRp5jE"
      },
      "execution_count": null,
      "outputs": []
    },
    {
      "cell_type": "markdown",
      "source": [
        "# Logistic Regression Model"
      ],
      "metadata": {
        "id": "yY1zVCNhpf77"
      }
    },
    {
      "cell_type": "code",
      "source": [
        "# 1. 사용할 머신러닝 모델 import\n",
        "from sklearn.linear_model import LogisticRegression\n",
        "\n",
        "# 2. 머신러닝 모델 객체 생성\n",
        "lr = LogisticRegression(random_state=0)\n",
        "\n",
        "# 3. fit()함수 이용하여 training 데이터로 학습하기\n",
        "lr.fit(x_train,y_train)\n",
        "\n",
        "# 4. predict()함수 이용하여 test 데이터로 예측하기\n",
        "y_pred=lr.predict(x_test)"
      ],
      "metadata": {
        "id": "dj8deK5rpfeh"
      },
      "execution_count": null,
      "outputs": []
    },
    {
      "cell_type": "code",
      "source": [
        "from sklearn.metrics import accuracy_score, classification_report, confusion_matrix\n",
        "\n",
        "print(\"Training Accuracy: \", lr.score(x_train, y_train)*100)\n",
        "print(\"Test Accuracy: \", accuracy_score(y_test,y_pred)*100)"
      ],
      "metadata": {
        "id": "N9jA7xV8qhzS"
      },
      "execution_count": null,
      "outputs": []
    },
    {
      "cell_type": "markdown",
      "source": [
        "# 데이터 전처리"
      ],
      "metadata": {
        "id": "YSumOoJQDFYF"
      }
    },
    {
      "cell_type": "code",
      "source": [
        "data['Glucose'] = data['Glucose'].replace(0,data['Glucose'].median())"
      ],
      "metadata": {
        "id": "YnenDtcnB4yu"
      },
      "execution_count": null,
      "outputs": []
    },
    {
      "cell_type": "markdown",
      "source": [
        "# **[문제 1]**\n",
        "BloodPressure/SkinThickness/Insulin/BMI의 0인 값들을 각 feature들의 평균값으로 대체하시오.(4점)"
      ],
      "metadata": {
        "id": "H4RSCHVNDdAO"
      }
    },
    {
      "cell_type": "code",
      "source": [
        "# BloodPressure\n"
      ],
      "metadata": {
        "id": "__ZByML9Dejc"
      },
      "execution_count": null,
      "outputs": []
    },
    {
      "cell_type": "code",
      "source": [
        "# SkinThickness\n"
      ],
      "metadata": {
        "id": "KvH7IwEYDp6i"
      },
      "execution_count": null,
      "outputs": []
    },
    {
      "cell_type": "code",
      "source": [
        "# Insulin\n"
      ],
      "metadata": {
        "id": "ASzFVFO-DyFX"
      },
      "execution_count": null,
      "outputs": []
    },
    {
      "cell_type": "code",
      "source": [
        "# BMI\n"
      ],
      "metadata": {
        "id": "r7QX9ykBD70g"
      },
      "execution_count": null,
      "outputs": []
    },
    {
      "cell_type": "code",
      "source": [
        "data.describe()"
      ],
      "metadata": {
        "id": "XYE7EiZhEBTE"
      },
      "execution_count": null,
      "outputs": []
    },
    {
      "cell_type": "markdown",
      "source": [
        "# 다양한 성능지표"
      ],
      "metadata": {
        "id": "3gVvjV6SbnIm"
      }
    },
    {
      "cell_type": "code",
      "source": [
        "# 새로운 로지스틱 회귀 모델\n",
        "from sklearn.metrics import confusion_matrix, accuracy_score, precision_score, recall_score, f1_score, classification_report, roc_auc_score, RocCurveDisplay\n",
        "\n",
        "lr_new = LogisticRegression(random_state=0)\n",
        "lr_new.fit(x_train,y_train)\n",
        "y_pred=lr_new.predict(x_test)\n",
        "print(\"Training Accuracy: \", lr_new.score(x_train, y_train)*100)\n",
        "print(\"Test Accuracy: \", accuracy_score(y_test,y_pred)*100)\n",
        "print(\"\\nPrecision: \", precision_score(y_test,y_pred)*100)\n",
        "print(\"Recall: \", recall_score(y_test,y_pred)*100)\n",
        "print(\"F1 Score: \", f1_score(y_test,y_pred)*100)\n",
        "print(\"ROC_AUC Score : \",roc_auc_score(y_test, y_pred))\n",
        "print(\"\\nNew Logistic Regression lassification Report: \\n\",classification_report(y_test,y_pred))"
      ],
      "metadata": {
        "id": "yt1nJRFAEY6A"
      },
      "execution_count": null,
      "outputs": []
    },
    {
      "cell_type": "code",
      "source": [
        "plt.figure(figsize = (3,2))\n",
        "cm = confusion_matrix(y_pred, y_test)\n",
        "sns.heatmap(cm, annot=True)\n",
        "plt.show()"
      ],
      "metadata": {
        "id": "QeXmQLTaFyJ-"
      },
      "execution_count": null,
      "outputs": []
    },
    {
      "cell_type": "markdown",
      "source": [
        "# Decision Tree"
      ],
      "metadata": {
        "id": "5K93ZnvXrIyo"
      }
    },
    {
      "cell_type": "code",
      "source": [
        "from sklearn.tree import DecisionTreeClassifier\n",
        "dt = DecisionTreeClassifier(random_state=0)\n",
        "\n",
        "dt.fit(x_train,y_train)\n",
        "y_pred=dt.predict(x_test)\n",
        "\n",
        "print(\"Decision Tree Training Accuracy: {:.2f}%\".format(dt.score(x_train, y_train)*100))\n",
        "print(\"Decision Tree Accuracy: {:.2f}%\".format(accuracy_score(y_test,y_pred)*100))\n",
        "print(\"\\nPrecision: \", precision_score(y_test,y_pred)*100)\n",
        "print(\"Recall: \", recall_score(y_test,y_pred)*100)\n",
        "print(\"F1 Score: \", f1_score(y_test,y_pred)*100)\n",
        "print(\"ROC_AUC Score : \",roc_auc_score(y_test, y_pred))\n",
        "\n",
        "print(\"\\nDecision Tree Classification Report: \\n\", classification_report(y_test,y_pred))\n",
        "\n",
        "plt.figure(figsize = (3,2))\n",
        "cm = confusion_matrix(y_pred, y_test)\n",
        "sns.heatmap(cm, annot=True)\n",
        "plt.show()"
      ],
      "metadata": {
        "id": "xAH_Ua4xt9lI"
      },
      "execution_count": null,
      "outputs": []
    },
    {
      "cell_type": "markdown",
      "source": [
        "# Random Forest"
      ],
      "metadata": {
        "id": "NudcIrq5OljB"
      }
    },
    {
      "cell_type": "code",
      "source": [
        "from sklearn.ensemble import RandomForestClassifier, AdaBoostClassifier, GradientBoostingClassifier, VotingClassifier, BaggingClassifier"
      ],
      "metadata": {
        "id": "voJYGtZCOa45"
      },
      "execution_count": null,
      "outputs": []
    },
    {
      "cell_type": "code",
      "source": [
        "rf = RandomForestClassifier(random_state=0)\n",
        "rf.fit(x_train, y_train)\n",
        "y_pred = rf.predict(x_test)\n",
        "\n",
        "print(\"Random Forest Training Accuracy: {:.2f}%\".format(rf.score(x_train, y_train)*100))\n",
        "print(\"Random Forest Accuracy: {:.2f}%\".format(accuracy_score(y_test,y_pred)*100))\n",
        "print(\"\\nPrecision: \", precision_score(y_test,y_pred)*100)\n",
        "print(\"Recall: \", recall_score(y_test,y_pred)*100)\n",
        "print(\"F1 Score: \", f1_score(y_test,y_pred)*100)\n",
        "print(\"ROC_AUC Score : \",roc_auc_score(y_test, y_pred))\n",
        "print(\"\\nRandom Forest Classification Report: \\n\", classification_report(y_test,y_pred))\n",
        "\n",
        "plt.figure(figsize = (3,2))\n",
        "cm = confusion_matrix(y_pred, y_test)\n",
        "sns.heatmap(cm, annot=True)\n",
        "plt.show()"
      ],
      "metadata": {
        "id": "wsP57CUKOu5u"
      },
      "execution_count": null,
      "outputs": []
    },
    {
      "cell_type": "markdown",
      "source": [
        "# Bagging Model"
      ],
      "metadata": {
        "id": "dw1PxaiiSKpA"
      }
    },
    {
      "cell_type": "code",
      "source": [
        "tree = DecisionTreeClassifier()\n",
        "bagging = BaggingClassifier(base_estimator=tree, n_estimators=1500, random_state=42)\n",
        "bagging.fit(x_train, y_train)\n",
        "y_pred = bagging.predict(x_test)\n",
        "\n",
        "print(\"Bagging Training Accuracy: {:.2f}%\".format(bagging.score(x_train, y_train)*100))\n",
        "print(\"Bagging Test Accuracy: {:.2f}%\".format(accuracy_score(y_test,y_pred)*100))\n",
        "\n",
        "print(\"\\nPrecision: \", precision_score(y_test,y_pred)*100)\n",
        "print(\"Recall: \", recall_score(y_test,y_pred)*100)\n",
        "print(\"F1 Score: \", f1_score(y_test,y_pred)*100)\n",
        "print(\"ROC_AUC Score : \",roc_auc_score(y_test, y_pred))\n",
        "print(\"\\nBagging Classification Report: \\n\", classification_report(y_test,y_pred))\n",
        "print(f\"\\nCONFUSION MATRIX:\\n{confusion_matrix(y_pred, y_test)}\")"
      ],
      "metadata": {
        "id": "ErwALi00SKDV"
      },
      "execution_count": null,
      "outputs": []
    },
    {
      "cell_type": "markdown",
      "source": [
        "# AdaBoost"
      ],
      "metadata": {
        "id": "nrI3kqXPREep"
      }
    },
    {
      "cell_type": "code",
      "source": [
        "ab = AdaBoostClassifier(n_estimators=200, random_state=0)\n",
        "ab.fit(x_train, y_train)\n",
        "y_pred = ab.predict(x_test)\n",
        "\n",
        "print(\"AdaBoost Training Accuracy: {:.2f}%\".format(ab.score(x_train, y_train)*100))\n",
        "print(\"AdaBoost Test Accuracy: {:.2f}%\".format(accuracy_score(y_test,y_pred)*100))\n",
        "print(\"\\nPrecision: \", precision_score(y_test,y_pred)*100)\n",
        "print(\"Recall: \", recall_score(y_test,y_pred)*100)\n",
        "print(\"F1 Score: \", f1_score(y_test,y_pred)*100)\n",
        "print(\"ROC_AUC Score : \",roc_auc_score(y_test, y_pred))\n",
        "print(\"AdaBoost Classification Report: \\n\", classification_report(y_test,y_pred))\n",
        "print(f\"CONFUSION MATRIX:\\n{confusion_matrix(y_pred, y_test)}\")"
      ],
      "metadata": {
        "id": "A3R_9XUjRDjS"
      },
      "execution_count": null,
      "outputs": []
    },
    {
      "cell_type": "markdown",
      "source": [
        "# Gradient Boosting Machine"
      ],
      "metadata": {
        "id": "9KvWjPjUP0Z0"
      }
    },
    {
      "cell_type": "markdown",
      "source": [
        "# **[문제 2]**\n",
        "Gradient Boosting Machine 모델을 생성하고 accuracy와 confusion matrix를 구하는 프로그램을 완성하시오.(6점)"
      ],
      "metadata": {
        "id": "0xv8wLhlG9CF"
      }
    },
    {
      "cell_type": "code",
      "source": [
        "# 머신러닝 모델 객체 생성\n",
        "\n",
        "\n",
        "# fit() 함수 이용하여 training 데이터로 학습하기\n",
        "\n",
        "\n",
        "# predict()함수 이용하여 test 데이터로 예측하기\n",
        "\n",
        "\n",
        "# 성능 지표 출력하기\n"
      ],
      "metadata": {
        "id": "5eKe_p9qP4Le"
      },
      "execution_count": null,
      "outputs": []
    },
    {
      "cell_type": "code",
      "source": [
        "def roc_auc(model, x_train, x_test, y_train, y_test):\n",
        "    y_test_pred = model.predict(x_test)\n",
        "    fig, axes = plt.subplots(1, 2, figsize=(20,5))\n",
        "    axes[0].set_title('ROC-AUC from estimator')\n",
        "    axes[1].set_title('ROC-AUC from predictions')\n",
        "    RocCurveDisplay.from_estimator(model, x_test, y_test, ax=axes[0])\n",
        "    RocCurveDisplay.from_predictions(y_test, y_test_pred, ax=axes[1])\n",
        "    plt.show()"
      ],
      "metadata": {
        "id": "zMpKmN76dAq0"
      },
      "execution_count": null,
      "outputs": []
    },
    {
      "cell_type": "code",
      "source": [
        "roc_auc(gbm, x_train, x_test, y_train, y_test)"
      ],
      "metadata": {
        "id": "kzfA5Bu3dJ0L"
      },
      "execution_count": null,
      "outputs": []
    },
    {
      "cell_type": "markdown",
      "source": [
        "# Voting model"
      ],
      "metadata": {
        "id": "l_OreruDS-jl"
      }
    },
    {
      "cell_type": "code",
      "source": [
        "estimators = []\n",
        "log = LogisticRegression()\n",
        "estimators.append(('Logistic', log))\n",
        "\n",
        "tree = DecisionTreeClassifier()\n",
        "estimators.append(('Tree', tree))\n",
        "\n",
        "ada = AdaBoostClassifier()\n",
        "estimators.append(('AdaBoost', ada))\n",
        "\n",
        "gbm = GradientBoostingClassifier()\n",
        "estimators.append(('GBM', gbm))\n",
        "\n",
        "voting = VotingClassifier(estimators=estimators)\n",
        "voting.fit(x_train, y_train)\n",
        "y_pred = voting.predict(x_test)\n",
        "\n",
        "print(\"Voting Training Accuracy: {:.2f}%\".format(voting.score(x_train, y_train)*100))\n",
        "print(\"Voting Test Accuracy: {:.2f}%\".format(accuracy_score(y_test,y_pred)*100))\n",
        "print(\"\\nPrecision: \", precision_score(y_test,y_pred)*100)\n",
        "print(\"Recall: \", recall_score(y_test,y_pred)*100)\n",
        "print(\"F1 Score: \", f1_score(y_test,y_pred)*100)\n",
        "print(\"ROC_AUC Score : \",roc_auc_score(y_test, y_pred))\n",
        "print(\"\\nVoting Classification Report: \\n\", classification_report(y_test,y_pred))\n",
        "\n",
        "print(f\"CONFUSION MATRIX:\\n{confusion_matrix(y_pred, y_test)}\")"
      ],
      "metadata": {
        "id": "U5EATRJXS8Kw"
      },
      "execution_count": null,
      "outputs": []
    }
  ]
}
