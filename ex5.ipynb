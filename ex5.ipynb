{
  "nbformat": 4,
  "nbformat_minor": 0,
  "metadata": {
    "colab": {
      "provenance": [],
      "gpuType": "T4"
    },
    "kernelspec": {
      "name": "python3",
      "display_name": "Python 3"
    },
    "language_info": {
      "name": "python"
    },
    "accelerator": "GPU"
  },
  "cells": [
    {
      "cell_type": "markdown",
      "source": [
        "# Data Preprocessing"
      ],
      "metadata": {
        "id": "zTgxLvAOhBqc"
      }
    },
    {
      "cell_type": "code",
      "execution_count": null,
      "metadata": {
        "id": "fMv3AQI_GQYF"
      },
      "outputs": [],
      "source": [
        "import pandas as pd\n",
        "import numpy as np\n",
        "import seaborn as sns\n",
        "import matplotlib.pyplot as plt\n",
        "import xgboost\n",
        "import lightgbm\n",
        "\n",
        "from sklearn.model_selection import train_test_split, GridSearchCV\n",
        "from sklearn.metrics import accuracy_score, roc_auc_score, log_loss, mean_squared_error, confusion_matrix, classification_report\n",
        "from sklearn.pipeline import Pipeline\n",
        "from sklearn.preprocessing import StandardScaler\n",
        "from sklearn.decomposition import PCA\n",
        "from sklearn.model_selection import KFold\n",
        "\n",
        "import warnings\n",
        "warnings.filterwarnings('ignore')"
      ]
    },
    {
      "cell_type": "code",
      "source": [
        "df = pd.read_csv('../content/wisconsin_data.csv')\n",
        "df.head(5)"
      ],
      "metadata": {
        "id": "tQAiEZEaO4RW"
      },
      "execution_count": null,
      "outputs": []
    },
    {
      "cell_type": "code",
      "source": [
        "df.drop(['id', 'Unnamed: 32'], axis = 1, inplace = True)\n",
        "df.diagnosis.unique()"
      ],
      "metadata": {
        "id": "LwCiAeQSPqev"
      },
      "execution_count": null,
      "outputs": []
    },
    {
      "cell_type": "code",
      "source": [
        "df['diagnosis'] = df['diagnosis'].apply(lambda val: 1 if val == 'M' else 0)\n",
        "df.head(5)"
      ],
      "metadata": {
        "id": "_S_8Li6kP0JK"
      },
      "execution_count": null,
      "outputs": []
    },
    {
      "cell_type": "code",
      "source": [
        "df.describe()"
      ],
      "metadata": {
        "id": "q37slEcqP97H"
      },
      "execution_count": null,
      "outputs": []
    },
    {
      "cell_type": "code",
      "source": [
        "df.info()"
      ],
      "metadata": {
        "id": "or5Cmn89QC-k"
      },
      "execution_count": null,
      "outputs": []
    },
    {
      "cell_type": "code",
      "source": [
        "plt.figure(figsize = (20, 12))\n",
        "\n",
        "corr = df.corr()\n",
        "mask = np.triu(np.ones_like(corr, dtype = bool))\n",
        "\n",
        "sns.heatmap(corr, mask = mask, linewidths = 1, annot = True, fmt = \".2f\")\n",
        "plt.show()"
      ],
      "metadata": {
        "id": "0SVAfMMaQKwW"
      },
      "execution_count": null,
      "outputs": []
    },
    {
      "cell_type": "code",
      "source": [
        "# Getting Mean Columns with diagnosis\n",
        "m_col = ['diagnosis','radius_mean', 'texture_mean', 'perimeter_mean',\n",
        "       'area_mean', 'smoothness_mean', 'compactness_mean', 'concavity_mean',\n",
        "       'concave points_mean', 'symmetry_mean', 'fractal_dimension_mean']\n",
        "\n",
        "# Getting Se Columns with diagnosis\n",
        "s_col = ['diagnosis','radius_se', 'texture_se', 'perimeter_se', 'area_se', 'smoothness_se',\n",
        "       'compactness_se', 'concavity_se', 'concave points_se', 'symmetry_se',\n",
        "       'fractal_dimension_se']\n",
        "\n",
        "# Getting Worst column with diagnosis\n",
        "w_col = ['diagnosis','radius_worst', 'texture_worst',\n",
        "       'perimeter_worst', 'area_worst', 'smoothness_worst',\n",
        "       'compactness_worst', 'concavity_worst', 'concave points_worst',\n",
        "       'symmetry_worst', 'fractal_dimension_worst']\n",
        "\n",
        "# pairplot for mean columns\n",
        "sns.pairplot(df[m_col],hue = 'diagnosis', palette='Greens')"
      ],
      "metadata": {
        "id": "kJTh_v7wldY8"
      },
      "execution_count": null,
      "outputs": []
    },
    {
      "cell_type": "code",
      "source": [
        "X = df.drop('diagnosis', axis = 1)\n",
        "y = df['diagnosis']"
      ],
      "metadata": {
        "id": "_ZUcJ-jtQxWW"
      },
      "execution_count": null,
      "outputs": []
    },
    {
      "cell_type": "code",
      "source": [
        "X_train, X_test, y_train, y_test = train_test_split(X, y, test_size = 0.30, random_state = 0)"
      ],
      "metadata": {
        "id": "_Dzm1z87Q2bN"
      },
      "execution_count": null,
      "outputs": []
    },
    {
      "cell_type": "code",
      "source": [
        "scaler = StandardScaler()\n",
        "\n",
        "X_train = scaler.fit_transform(X_train)\n",
        "X_test = scaler.transform(X_test)"
      ],
      "metadata": {
        "id": "GhrM28PQQ7cu"
      },
      "execution_count": null,
      "outputs": []
    },
    {
      "cell_type": "markdown",
      "source": [
        "# Decision Tree"
      ],
      "metadata": {
        "id": "QlkTQVzahJXc"
      }
    },
    {
      "cell_type": "code",
      "source": [
        "from sklearn.tree import DecisionTreeClassifier\n",
        "\n",
        "dtc = DecisionTreeClassifier(criterion = 'entropy', max_depth = 28, min_samples_leaf = 1, min_samples_split = 8, splitter = 'random')\n",
        "dtc.fit(X_train, y_train)\n",
        "y_pred = dtc.predict(X_test)"
      ],
      "metadata": {
        "id": "IocrSYbuRJH3"
      },
      "execution_count": null,
      "outputs": []
    },
    {
      "cell_type": "code",
      "source": [
        "print(\"Train Accuracy:\", accuracy_score(y_train, dtc.predict(X_train)))\n",
        "\n",
        "dtc_acc = accuracy_score(y_test, dtc.predict(X_test))\n",
        "print(\"Test Accuracy:\", dtc_acc)"
      ],
      "metadata": {
        "id": "sZmWMuO7Ri16"
      },
      "execution_count": null,
      "outputs": []
    },
    {
      "cell_type": "markdown",
      "source": [
        "# Random Forest"
      ],
      "metadata": {
        "id": "f8VedwxJSOXe"
      }
    },
    {
      "cell_type": "markdown",
      "source": [
        "## 문제1. Random Forest를 이용하여 유방암 예측 모델을 만들고 학습 데이터와 테스트 데이터의 정확도를 출력하시오."
      ],
      "metadata": {
        "id": "y-KpfnUCPzbT"
      }
    },
    {
      "cell_type": "code",
      "source": [
        "from sklearn.ensemble import RandomForestClassifier\n",
        "\n",
        "rf_clf ="
      ],
      "metadata": {
        "id": "cC8-_Y6RSNsA"
      },
      "execution_count": null,
      "outputs": []
    },
    {
      "cell_type": "markdown",
      "source": [
        "#AdaBoost"
      ],
      "metadata": {
        "id": "A74W1tdTSefG"
      }
    },
    {
      "cell_type": "code",
      "source": [
        "from sklearn.ensemble import AdaBoostClassifier\n",
        "\n",
        "ada = AdaBoostClassifier(dtc, n_estimators = 200)\n",
        "\n",
        "ada.fit(X_train, y_train)\n",
        "y_pred = ada.predict(X_test)"
      ],
      "metadata": {
        "id": "S_6PdlFSSkbg"
      },
      "execution_count": null,
      "outputs": []
    },
    {
      "cell_type": "code",
      "source": [
        "print(\"Train Accuracy:\",accuracy_score(y_train, ada.predict(X_train)))\n",
        "\n",
        "ada_acc = accuracy_score(y_test, y_pred)\n",
        "print(\"Test Accuracy:\",ada_acc)"
      ],
      "metadata": {
        "id": "WY-5KGJaSokE"
      },
      "execution_count": null,
      "outputs": []
    },
    {
      "cell_type": "markdown",
      "source": [
        "# GBM"
      ],
      "metadata": {
        "id": "W47ttj4ES0pD"
      }
    },
    {
      "cell_type": "code",
      "source": [
        "from sklearn.ensemble import GradientBoostingClassifier\n",
        "gbm = GradientBoostingClassifier(learning_rate = 1, loss = 'exponential', n_estimators = 200)\n",
        "gbm.fit(X_train, y_train)\n",
        "y_pred = gbm.predict(X_test)"
      ],
      "metadata": {
        "id": "aQhYj140Szv4"
      },
      "execution_count": null,
      "outputs": []
    },
    {
      "cell_type": "code",
      "source": [
        "print(\"Train Accuracy:\",accuracy_score(y_train, gbm.predict(X_train)))\n",
        "\n",
        "gbm_acc = accuracy_score(y_test, y_pred)\n",
        "print(\"Test Accuracy:\",gbm_acc)"
      ],
      "metadata": {
        "id": "FGKz8OULS9WS"
      },
      "execution_count": null,
      "outputs": []
    },
    {
      "cell_type": "markdown",
      "source": [
        "# XGBoost"
      ],
      "metadata": {
        "id": "0QEVykZ4TIzf"
      }
    },
    {
      "cell_type": "code",
      "source": [
        "from xgboost import XGBClassifier\n",
        "\n",
        "xgb = XGBClassifier(n_estimators = 200)\n",
        "\n",
        "xgb.fit(X_train, y_train, early_stopping_rounds=20, eval_set=[(X_test, y_test)])\n",
        "y_pred = xgb.predict(X_test)"
      ],
      "metadata": {
        "id": "dvcRUSv8TT3O"
      },
      "execution_count": null,
      "outputs": []
    },
    {
      "cell_type": "code",
      "source": [
        "print(\"Train Accuracy:\",accuracy_score(y_train, xgb.predict(X_train)))\n",
        "\n",
        "xgb_acc = accuracy_score(y_test, y_pred)\n",
        "print(\"Test Accuracy:\",xgb_acc)"
      ],
      "metadata": {
        "id": "KizE_PTwTaxY"
      },
      "execution_count": null,
      "outputs": []
    },
    {
      "cell_type": "code",
      "source": [
        "xgboost.plot_importance(xgb)"
      ],
      "metadata": {
        "id": "Ws_bPsGbfcFo"
      },
      "execution_count": null,
      "outputs": []
    },
    {
      "cell_type": "markdown",
      "source": [
        "# LGBM"
      ],
      "metadata": {
        "id": "SjCn3LeqTsdq"
      }
    },
    {
      "cell_type": "markdown",
      "source": [
        "## 문제2. Lightgbm을 이용하여 유방암을 예측하는 학습 모델을 만들고 학습 데이터와 테스트 데이터의 정확도를 출력하시오."
      ],
      "metadata": {
        "id": "2L26zYAGQOL5"
      }
    },
    {
      "cell_type": "code",
      "source": [
        "from lightgbm import LGBMClassifier\n",
        "\n",
        "lgbm ="
      ],
      "metadata": {
        "id": "K3HnYTZ2TrGl"
      },
      "execution_count": null,
      "outputs": []
    },
    {
      "cell_type": "markdown",
      "source": [
        "# SVM"
      ],
      "metadata": {
        "id": "6AC1HMs5lA83"
      }
    },
    {
      "cell_type": "code",
      "source": [
        "from sklearn.svm import SVC\n",
        "\n",
        "svc = SVC()\n",
        "svc.fit(X_train, y_train)\n",
        "y_pred = svc.predict(X_test)"
      ],
      "metadata": {
        "id": "eqWY4ez7l4es"
      },
      "execution_count": null,
      "outputs": []
    },
    {
      "cell_type": "code",
      "source": [
        "print(\"Train Accuracy:\",accuracy_score(y_train, svc.predict(X_train)))\n",
        "\n",
        "svc_acc = accuracy_score(y_test, y_pred)\n",
        "print(\"Test Accuracy:\",svc_acc)"
      ],
      "metadata": {
        "id": "fPu-eR5smGjv"
      },
      "execution_count": null,
      "outputs": []
    },
    {
      "cell_type": "markdown",
      "source": [
        "# 성능 분석"
      ],
      "metadata": {
        "id": "LGOZ8nukk8j6"
      }
    },
    {
      "cell_type": "code",
      "source": [
        "models = pd.DataFrame({\n",
        "    'Model': ['Decision Tree','Random Forest', 'AdaBoost', 'GBM','XGboost','LightGBM', 'SVM'],\n",
        "    'Score': [dtc_acc, rf_acc, ada_acc, gbm_acc, xgb_acc, lgbm_acc, svc_acc]})\n",
        "models.sort_values(by='Score', ascending=False)"
      ],
      "metadata": {
        "id": "blBG0Scijizo"
      },
      "execution_count": null,
      "outputs": []
    },
    {
      "cell_type": "markdown",
      "source": [
        "# Grid Search CV"
      ],
      "metadata": {
        "id": "av1Wpgrqg2BA"
      }
    },
    {
      "cell_type": "code",
      "source": [
        "model = SVC()\n",
        "param_grid = {\n",
        "    'gamma' : [0.0001, 0.001, 0.01, 0.1],\n",
        "    'C' : [0.01, 0.05, 0.5, 0.1, 1, 10, 15, 20]\n",
        "}"
      ],
      "metadata": {
        "id": "InPZbO5IL2SG"
      },
      "execution_count": null,
      "outputs": []
    },
    {
      "cell_type": "code",
      "source": [
        "gsc = GridSearchCV(model, param_grid, cv=10)\n",
        "gsc.fit(X_train, y_train)"
      ],
      "metadata": {
        "id": "HeY-HIuZMHPb"
      },
      "execution_count": null,
      "outputs": []
    },
    {
      "cell_type": "code",
      "source": [
        "print(\"\\n Best Score is \")\n",
        "print(gsc.best_score_)\n",
        "\n",
        "print(\"\\n Best Estinator is \")\n",
        "print(gsc.best_estimator_)\n",
        "\n",
        "print(\"\\n Best Parametes are\")\n",
        "print(gsc.best_params_)"
      ],
      "metadata": {
        "id": "aFYuFSUuMM66"
      },
      "execution_count": null,
      "outputs": []
    },
    {
      "cell_type": "code",
      "source": [
        "svc_b = SVC(C = 10, gamma = 0.01)\n",
        "svc_b.fit(X_train, y_train)\n",
        "\n",
        "print(\"Train Accuracy:\", accuracy_score(y_train, svc_b.predict(X_train)))\n",
        "svc_acc = accuracy_score(y_test, svc_b.predict(X_test))\n",
        "print(\"Test Accuracy:\", svc_acc)"
      ],
      "metadata": {
        "id": "bz4LCgBxqtpR"
      },
      "execution_count": null,
      "outputs": []
    },
    {
      "cell_type": "markdown",
      "source": [
        "# Pipeline"
      ],
      "metadata": {
        "id": "meHBpwDPMYS_"
      }
    },
    {
      "cell_type": "code",
      "source": [
        "model = xgboost.XGBClassifier()\n",
        "\n",
        "pipeline = Pipeline([\n",
        "    ('standard_scaler', StandardScaler()),\n",
        "    ('pca', PCA()),\n",
        "    ('model', model)\n",
        "])"
      ],
      "metadata": {
        "id": "Bv330V7_OdVs"
      },
      "execution_count": null,
      "outputs": []
    },
    {
      "cell_type": "code",
      "source": [
        "param_grid = {\n",
        "    'pca__n_components': [5, 10, 15, 20, 25, 30],\n",
        "    'model__max_depth': [2, 3, 5, 7, 10],\n",
        "    'model__n_estimators': [10, 100, 500],\n",
        "}\n",
        "\n",
        "grid = GridSearchCV(pipeline, param_grid, cv=5, n_jobs=-1, scoring='roc_auc')"
      ],
      "metadata": {
        "id": "fXtydbhwOllg"
      },
      "execution_count": null,
      "outputs": []
    },
    {
      "cell_type": "code",
      "source": [
        "%%time\n",
        "grid.fit(X_train, y_train)"
      ],
      "metadata": {
        "id": "cBbtx4VcOiyq"
      },
      "execution_count": null,
      "outputs": []
    },
    {
      "cell_type": "code",
      "source": [
        "mean_score = grid.cv_results_[\"mean_test_score\"][grid.best_index_]\n",
        "std_score = grid.cv_results_[\"std_test_score\"][grid.best_index_]\n",
        "\n",
        "grid.best_params_, mean_score, std_score\n",
        "\n",
        "print(f\"Best parameters: {grid.best_params_}\")\n",
        "print(f\"Mean CV score: {mean_score: .6f}\")\n",
        "print(f\"Standard deviation of CV score: {std_score: .6f}\")"
      ],
      "metadata": {
        "id": "eK2wnkKxKA2C"
      },
      "execution_count": null,
      "outputs": []
    }
  ]
}